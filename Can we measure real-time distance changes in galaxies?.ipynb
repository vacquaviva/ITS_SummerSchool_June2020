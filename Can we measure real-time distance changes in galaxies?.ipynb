{
 "cells": [
  {
   "cell_type": "code",
   "execution_count": 19,
   "metadata": {},
   "outputs": [],
   "source": [
    "from astropy import cosmology\n",
    "import astropy.units as u\n",
    "from astropy.cosmology import FlatLambdaCDM"
   ]
  },
  {
   "cell_type": "code",
   "execution_count": 18,
   "metadata": {},
   "outputs": [],
   "source": [
    "from astropy.cosmology import WMAP9, z_at_value"
   ]
  },
  {
   "cell_type": "markdown",
   "metadata": {},
   "source": [
    "Redshift of galaxy at Age = 10 Gyr and 10Gyr + 10yrs"
   ]
  },
  {
   "cell_type": "code",
   "execution_count": 32,
   "metadata": {},
   "outputs": [],
   "source": [
    "reds = z_at_value(WMAP9.age, 10 * u.Gyr), z_at_value(WMAP9.age, 10.000000001 * u.Gyr), "
   ]
  },
  {
   "cell_type": "code",
   "execution_count": 33,
   "metadata": {},
   "outputs": [
    {
     "data": {
      "text/plain": [
       "0.33355725177884893"
      ]
     },
     "execution_count": 33,
     "metadata": {},
     "output_type": "execute_result"
    }
   ],
   "source": [
    "reds[0]"
   ]
  },
  {
   "cell_type": "markdown",
   "metadata": {},
   "source": [
    "Relative difference"
   ]
  },
  {
   "cell_type": "code",
   "execution_count": 35,
   "metadata": {},
   "outputs": [
    {
     "data": {
      "text/plain": [
       "3.3480043682287177e-10"
      ]
     },
     "execution_count": 35,
     "metadata": {},
     "output_type": "execute_result"
    }
   ],
   "source": [
    "(reds[0]-reds[1])/reds[0]"
   ]
  },
  {
   "cell_type": "markdown",
   "metadata": {},
   "source": [
    "Current precision for HUDF field (exposure time ~ 2Ms): not more than 3 significant digits; S/N is not the driving factor."
   ]
  },
  {
   "cell_type": "markdown",
   "metadata": {},
   "source": [
    "This figure from paper below shows how spectroscopic redshifts are measured from emission/absorption lines:\n",
    "\n",
    "https://www.aanda.org/articles/aa/pdf/2017/12/aa31195-17.pdf"
   ]
  },
  {
   "cell_type": "markdown",
   "metadata": {},
   "source": [
    "![Spec z](Specz.png)"
   ]
  },
  {
   "cell_type": "markdown",
   "metadata": {},
   "source": [
    "This measurement is limited by systematic, not statistical, errors (e.g. placement of line is not known to such accuracy), so it's hard to imagine bringing down those confounding factors sufficiently."
   ]
  },
  {
   "cell_type": "markdown",
   "metadata": {},
   "source": [
    "For fun, if we ignored this, assuming:\n",
    "\n",
    "- z_err now = 10^-3, desired 10^-10 for 3 sigma detection\n",
    "\n",
    "- S/N scales with sqrt(observing time), although not fair because we are talking about a derived quantity \n",
    "\n",
    "- we would need 10^14 * 2 * 10^6 seconds = 10^20 seconds ~ 3 trillion years."
   ]
  },
  {
   "cell_type": "code",
   "execution_count": null,
   "metadata": {},
   "outputs": [],
   "source": []
  }
 ],
 "metadata": {
  "kernelspec": {
   "display_name": "Python 3",
   "language": "python",
   "name": "python3"
  },
  "language_info": {
   "codemirror_mode": {
    "name": "ipython",
    "version": 3
   },
   "file_extension": ".py",
   "mimetype": "text/x-python",
   "name": "python",
   "nbconvert_exporter": "python",
   "pygments_lexer": "ipython3",
   "version": "3.7.3"
  }
 },
 "nbformat": 4,
 "nbformat_minor": 2
}
