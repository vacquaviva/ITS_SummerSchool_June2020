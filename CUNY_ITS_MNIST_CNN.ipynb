{
  "nbformat": 4,
  "nbformat_minor": 0,
  "metadata": {
    "colab": {
      "name": "CUNY_ITS_MNIST_CNN.ipynb",
      "provenance": [],
      "collapsed_sections": []
    },
    "kernelspec": {
      "name": "python3",
      "display_name": "Python 3"
    },
    "accelerator": "GPU"
  },
  "cells": [
    {
      "cell_type": "code",
      "metadata": {
        "id": "qoU32z5Gg1LR",
        "colab_type": "code",
        "colab": {
          "base_uri": "https://localhost:8080/",
          "height": 34
        },
        "outputId": "63f3c11f-7b6a-41f9-8fe5-bff7aa3aa4b8"
      },
      "source": [
        "# This code is adapted from\n",
        "# https://machinelearningmastery.com/handwritten-digit-recognition-using-convolutional-neural-networks-python-keras/\n",
        "\n",
        "from keras.datasets import mnist\n",
        "from keras.models import Sequential\n",
        "from keras.layers import Dense\n",
        "from keras.layers import Dropout\n",
        "from keras.layers import Flatten\n",
        "from keras.layers.convolutional import Conv2D\n",
        "from keras.layers.convolutional import MaxPooling2D\n",
        "from keras.utils import np_utils\n",
        "import warnings\n",
        "warnings.filterwarnings(\"ignore\")"
      ],
      "execution_count": 1,
      "outputs": [
        {
          "output_type": "stream",
          "text": [
            "Using TensorFlow backend.\n"
          ],
          "name": "stderr"
        }
      ]
    },
    {
      "cell_type": "code",
      "metadata": {
        "id": "_hcIFu52rmzp",
        "colab_type": "code",
        "colab": {}
      },
      "source": [
        "import tensorflow as tf\n",
        "#tf.logging.set_verbosity(tf.logging.ERROR)"
      ],
      "execution_count": 2,
      "outputs": []
    },
    {
      "cell_type": "code",
      "metadata": {
        "id": "6nuBOKB5krCh",
        "colab_type": "code",
        "colab": {
          "base_uri": "https://localhost:8080/",
          "height": 52
        },
        "outputId": "9fed87d2-9d29-44f2-f950-48a3cd09a7ee"
      },
      "source": [
        "# load data\n",
        "(X_train, y_train), (X_test, y_test) = mnist.load_data()\n",
        "\n",
        "# reshape to be [samples][width][height][channels]\n",
        "X_train = X_train.reshape((X_train.shape[0], 28, 28, 1)).astype('float32')\n",
        "X_test = X_test.reshape((X_test.shape[0], 28, 28, 1)).astype('float32')\n",
        "\n",
        "# normalize inputs from 0-255 to 0-1 to make neural network happy\n",
        "X_train = X_train / 255\n",
        "X_test = X_test / 255\n",
        "\n",
        "# one hot encode outputs (create ten possible outputs and assign a 0/1 label to each object)\n",
        "y_train = np_utils.to_categorical(y_train)\n",
        "y_test = np_utils.to_categorical(y_test)\n",
        "\n",
        "num_classes = y_test.shape[1]"
      ],
      "execution_count": 3,
      "outputs": [
        {
          "output_type": "stream",
          "text": [
            "Downloading data from https://s3.amazonaws.com/img-datasets/mnist.npz\n",
            "11493376/11490434 [==============================] - 1s 0us/step\n"
          ],
          "name": "stdout"
        }
      ]
    },
    {
      "cell_type": "code",
      "metadata": {
        "id": "dDmJbwFylHtd",
        "colab_type": "code",
        "colab": {
          "base_uri": "https://localhost:8080/",
          "height": 268
        },
        "outputId": "f2107fed-2c2a-4a75-e8b0-1cc7d68349ee"
      },
      "source": [
        "#Visualize first few objects of training set\n",
        "import matplotlib.pyplot as plt\n",
        "import numpy as np\n",
        "for i in range(9):\n",
        "  plt.subplot(3,3,i+1)\n",
        "  first_image = np.array(X_train[i], dtype='float')\n",
        "  pixels = first_image.reshape((28, 28))\n",
        "  plt.imshow(pixels, cmap='gray')"
      ],
      "execution_count": 4,
      "outputs": [
        {
          "output_type": "display_data",
          "data": {
            "image/png": "[encoded data removed]",
            "text/plain": [
              "<Figure size 432x288 with 9 Axes>"
            ]
          },
          "metadata": {
            "tags": [],
            "needs_background": "light"
          }
        }
      ]
    },
    {
      "cell_type": "code",
      "metadata": {
        "id": "y95ojrGdktHK",
        "colab_type": "code",
        "colab": {}
      },
      "source": [
        "# define a simple CNN model\n",
        "def baseline_model():\n",
        "\t# create model\n",
        "\tmodel = Sequential()\n",
        "\tmodel.add(Conv2D(32, (5, 5), input_shape=(28, 28, 1), activation='relu'))\n",
        "\tmodel.add(MaxPooling2D())\n",
        "\tmodel.add(Dropout(0.2))\n",
        "\tmodel.add(Flatten())\n",
        "\tmodel.add(Dense(128, activation='relu'))\n",
        "\tmodel.add(Dense(num_classes, activation='softmax'))\n",
        "\t# Compile model\n",
        "\tmodel.compile(loss='categorical_crossentropy', optimizer='adam', metrics=['accuracy'])\n",
        "\treturn model"
      ],
      "execution_count": 5,
      "outputs": []
    },
    {
      "cell_type": "code",
      "metadata": {
        "id": "tY-fwnbFjL0i",
        "colab_type": "code",
        "colab": {
          "base_uri": "https://localhost:8080/",
          "height": 416
        },
        "outputId": "f5ee405c-f2bb-4c2d-c081-2950d13a227c"
      },
      "source": [
        "# build the model\n",
        "model = baseline_model()\n",
        "# Fit the model\n",
        "model.fit(X_train, y_train, validation_data=(X_test, y_test), epochs=10, batch_size=200)\n",
        "# Final evaluation of the model\n",
        "scores = model.evaluate(X_test, y_test, verbose=1)\n",
        "print(\"CNN Error: %.2f%%\" % (100-scores[1]*100))"
      ],
      "execution_count": 6,
      "outputs": [
        {
          "output_type": "stream",
          "text": [
            "Train on 60000 samples, validate on 10000 samples\n",
            "Epoch 1/10\n",
            "60000/60000 [==============================] - 9s 144us/step - loss: 0.2359 - accuracy: 0.9316 - val_loss: 0.0758 - val_accuracy: 0.9765\n",
            "Epoch 2/10\n",
            "60000/60000 [==============================] - 2s 28us/step - loss: 0.0730 - accuracy: 0.9778 - val_loss: 0.0534 - val_accuracy: 0.9810\n",
            "Epoch 3/10\n",
            "60000/60000 [==============================] - 2s 28us/step - loss: 0.0518 - accuracy: 0.9843 - val_loss: 0.0416 - val_accuracy: 0.9863\n",
            "Epoch 4/10\n",
            "60000/60000 [==============================] - 2s 28us/step - loss: 0.0408 - accuracy: 0.9873 - val_loss: 0.0426 - val_accuracy: 0.9871\n",
            "Epoch 5/10\n",
            "60000/60000 [==============================] - 2s 28us/step - loss: 0.0327 - accuracy: 0.9901 - val_loss: 0.0347 - val_accuracy: 0.9886\n",
            "Epoch 6/10\n",
            "60000/60000 [==============================] - 2s 28us/step - loss: 0.0269 - accuracy: 0.9915 - val_loss: 0.0346 - val_accuracy: 0.9885\n",
            "Epoch 7/10\n",
            "60000/60000 [==============================] - 2s 28us/step - loss: 0.0234 - accuracy: 0.9926 - val_loss: 0.0327 - val_accuracy: 0.9884\n",
            "Epoch 8/10\n",
            "60000/60000 [==============================] - 2s 28us/step - loss: 0.0190 - accuracy: 0.9940 - val_loss: 0.0319 - val_accuracy: 0.9891\n",
            "Epoch 9/10\n",
            "60000/60000 [==============================] - 2s 28us/step - loss: 0.0166 - accuracy: 0.9947 - val_loss: 0.0339 - val_accuracy: 0.9885\n",
            "Epoch 10/10\n",
            "60000/60000 [==============================] - 2s 27us/step - loss: 0.0136 - accuracy: 0.9959 - val_loss: 0.0281 - val_accuracy: 0.9908\n",
            "10000/10000 [==============================] - 1s 57us/step\n",
            "CNN Error: 0.92%\n"
          ],
          "name": "stdout"
        }
      ]
    },
    {
      "cell_type": "code",
      "metadata": {
        "id": "4JS9CqVvsr_4",
        "colab_type": "code",
        "colab": {
          "base_uri": "https://localhost:8080/",
          "height": 34
        },
        "outputId": "bfff3f7c-6ebc-4605-c0c7-6a165ddc8318"
      },
      "source": [
        "ix = np.random.random_integers(0,1000)\n",
        "\n",
        "print(ix)"
      ],
      "execution_count": 7,
      "outputs": [
        {
          "output_type": "stream",
          "text": [
            "599\n"
          ],
          "name": "stdout"
        }
      ]
    },
    {
      "cell_type": "code",
      "metadata": {
        "id": "6mC9lu4vsDWI",
        "colab_type": "code",
        "colab": {
          "base_uri": "https://localhost:8080/",
          "height": 282
        },
        "outputId": "8a080377-a23c-47a8-c4ba-13ae17b70e7a"
      },
      "source": [
        "plt.imshow((X_test[ix]).reshape(28,28), cmap='gray')"
      ],
      "execution_count": 8,
      "outputs": [
        {
          "output_type": "execute_result",
          "data": {
            "text/plain": [
              "<matplotlib.image.AxesImage at 0x7f42bc0f70b8>"
            ]
          },
          "metadata": {
            "tags": []
          },
          "execution_count": 8
        },
        {
          "output_type": "display_data",
          "data": {
            "image/png": "[encoded data removed]",
            "text/plain": [
              "<Figure size 432x288 with 1 Axes>"
            ]
          },
          "metadata": {
            "tags": [],
            "needs_background": "light"
          }
        }
      ]
    },
    {
      "cell_type": "code",
      "metadata": {
        "id": "5WwO7-gxsjAI",
        "colab_type": "code",
        "colab": {
          "base_uri": "https://localhost:8080/",
          "height": 34
        },
        "outputId": "c658557a-5a1b-4448-a0f1-f16b463c5db2"
      },
      "source": [
        "np.argmax(model.predict(X_test)[ix])"
      ],
      "execution_count": 9,
      "outputs": [
        {
          "output_type": "execute_result",
          "data": {
            "text/plain": [
              "9"
            ]
          },
          "metadata": {
            "tags": []
          },
          "execution_count": 9
        }
      ]
    },
    {
      "cell_type": "markdown",
      "metadata": {
        "id": "ucdF5Qe_EVI_",
        "colab_type": "text"
      },
      "source": [
        "Save predictions"
      ]
    },
    {
      "cell_type": "code",
      "metadata": {
        "id": "sMws4_hfqSv4",
        "colab_type": "code",
        "colab": {}
      },
      "source": [
        "cpred = model.predict(X_test)"
      ],
      "execution_count": 10,
      "outputs": []
    },
    {
      "cell_type": "code",
      "metadata": {
        "id": "an9-xCpDqWPJ",
        "colab_type": "code",
        "colab": {
          "base_uri": "https://localhost:8080/",
          "height": 278
        },
        "outputId": "e95b3e18-07dc-4786-b419-ce47f06a572d"
      },
      "source": [
        "cpred[:5,:]"
      ],
      "execution_count": 33,
      "outputs": [
        {
          "output_type": "execute_result",
          "data": {
            "text/plain": [
              "array([[5.67698555e-09, 1.31546174e-09, 4.38644321e-08, 2.23753943e-07,\n",
              "        1.03610222e-13, 4.85163298e-10, 9.80369803e-16, 9.99999523e-01,\n",
              "        9.79238357e-10, 2.47531602e-07],\n",
              "       [1.16325500e-11, 2.05638031e-07, 9.99999762e-01, 3.50056599e-13,\n",
              "        6.85380150e-17, 1.59562711e-13, 2.80226731e-09, 1.73752711e-12,\n",
              "        2.08512114e-11, 1.14324350e-14],\n",
              "       [3.79332687e-06, 9.99940157e-01, 8.64784397e-07, 6.33288000e-09,\n",
              "        9.03234013e-06, 1.16626488e-07, 7.13712211e-07, 3.32387244e-05,\n",
              "        1.18732851e-05, 2.01126397e-07],\n",
              "       [9.99991894e-01, 1.24327293e-09, 1.61182729e-08, 5.33905697e-10,\n",
              "        8.03082947e-11, 2.90731901e-08, 8.01771057e-06, 9.04584923e-08,\n",
              "        1.05261876e-10, 2.21193623e-08],\n",
              "       [5.57906876e-09, 2.71640985e-08, 9.55088897e-10, 8.59711635e-10,\n",
              "        9.99856830e-01, 1.47942025e-09, 2.45235423e-08, 3.13351762e-08,\n",
              "        1.58300875e-08, 1.43132609e-04]], dtype=float32)"
            ]
          },
          "metadata": {
            "tags": []
          },
          "execution_count": 33
        }
      ]
    },
    {
      "cell_type": "code",
      "metadata": {
        "id": "I4a9bp_mwLWa",
        "colab_type": "code",
        "colab": {}
      },
      "source": [
        "#Save predicted class for the first 1000 objects\n",
        "\n",
        "pred = [np.argmax(cpred[i]) for i in range(1000)]"
      ],
      "execution_count": 11,
      "outputs": []
    },
    {
      "cell_type": "code",
      "metadata": {
        "id": "ARaaVtAqwOM-",
        "colab_type": "code",
        "colab": {}
      },
      "source": [
        "#Save true class for the first 1000 objects\n",
        "\n",
        "true = [np.argmax(y_test[i]) for i in range(1000)]"
      ],
      "execution_count": 12,
      "outputs": []
    },
    {
      "cell_type": "code",
      "metadata": {
        "id": "oFHHPIGnwEB_",
        "colab_type": "code",
        "colab": {}
      },
      "source": [
        "#Find differences\n",
        "\n",
        "err = np.where(np.array(pred) != np.array(true))"
      ],
      "execution_count": 13,
      "outputs": []
    },
    {
      "cell_type": "code",
      "metadata": {
        "id": "SU91LbGrq0NQ",
        "colab_type": "code",
        "colab": {
          "base_uri": "https://localhost:8080/",
          "height": 34
        },
        "outputId": "10edf039-8614-4cfc-930c-52460ca9237b"
      },
      "source": [
        "err"
      ],
      "execution_count": 14,
      "outputs": [
        {
          "output_type": "execute_result",
          "data": {
            "text/plain": [
              "(array([ 18, 115, 247, 340, 445, 582, 659, 740, 947]),)"
            ]
          },
          "metadata": {
            "tags": []
          },
          "execution_count": 14
        }
      ]
    },
    {
      "cell_type": "code",
      "metadata": {
        "id": "O-ErLCzIrqNB",
        "colab_type": "code",
        "colab": {
          "base_uri": "https://localhost:8080/",
          "height": 34
        },
        "outputId": "d71216e0-8e95-47ac-bc09-c6980e0b70af"
      },
      "source": [
        "len(err[0])"
      ],
      "execution_count": 15,
      "outputs": [
        {
          "output_type": "execute_result",
          "data": {
            "text/plain": [
              "9"
            ]
          },
          "metadata": {
            "tags": []
          },
          "execution_count": 15
        }
      ]
    },
    {
      "cell_type": "code",
      "metadata": {
        "id": "W8XY8yM7LWsJ",
        "colab_type": "code",
        "colab": {
          "base_uri": "https://localhost:8080/",
          "height": 302
        },
        "outputId": "dcad5199-1881-48f3-baf8-442f8a5bdb37"
      },
      "source": [
        "#Visualize wrongly classified examples\n",
        "plt.figure(figsize=(10,10))\n",
        "for i in range(len(err[0])):\n",
        "  plt.subplot(4,5,i+1)\n",
        "  first_image = np.array(X_test[err[0][i]], dtype='float')\n",
        "  pixels = first_image.reshape((28, 28))\n",
        "  plt.imshow(pixels, cmap='gray')\n",
        "  plt.title('T/P:'+str(true[err[0][i]])+','+str(pred[err[0][i]]))"
      ],
      "execution_count": 16,
      "outputs": [
        {
          "output_type": "display_data",
          "data": {
            "image/png": "[encoded data removed]",
            "text/plain": [
              "<Figure size 720x720 with 9 Axes>"
            ]
          },
          "metadata": {
            "tags": [],
            "needs_background": "light"
          }
        }
      ]
    },
    {
      "cell_type": "code",
      "metadata": {
        "id": "Xky4DzEkadaz",
        "colab_type": "code",
        "colab": {}
      },
      "source": [
        ""
      ],
      "execution_count": null,
      "outputs": []
    }
  ]
}